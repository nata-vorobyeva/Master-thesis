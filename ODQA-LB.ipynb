{
 "cells": [
  {
   "cell_type": "markdown",
   "id": "0b4a32bf",
   "metadata": {},
   "source": [
    "## Open domain question answering system on custom dataset"
   ]
  },
  {
   "cell_type": "markdown",
   "id": "8b754628",
   "metadata": {},
   "source": [
    "**Основные задачи:**  \n",
    "1. Построить открытую вопросно-ответную систему на пользовательских данных.  \n",
    "2. Оценить результаты работы: сравнить с результатами закрытой вопросно-ответной системы и результатами датасета SberQuAD.  \n",
    "   \n",
    "В качестве метрик будут использованы F1 и EM.  \n",
    "В качестве датасета будет использована часть параграфов [отчёта](https://e-disclosure.ru/portal/files.aspx?id=9480&type=2&attempt=1) о деятельности ПАО Т Плюс за 2019 год.  \n",
    "Результаты датасета SberQuAD [здесь](https://github.com/nata-vorobyeva/QA-nlp/blob/master/ODQA.ipynb)."
   ]
  },
  {
   "cell_type": "markdown",
   "id": "0ac1a789",
   "metadata": {},
   "source": [
    "**План аналогичен работе с датасетом SberQuAD:**  \n",
    "1. Оценить метрики качества закрытой вопросно-ответной системы, когда модели предлагается найти ответ в единственном \"родном\" для неё контексте. Будем использовать эти метрики в качестве эталонных, чтобы оценить, насколько они снижаются при переходе в открытый тип, когда у модели вместо одного заданного контекста есть некоторое их множество.   \n",
    "Модель для поиска ответа в контексте (`Reader`) построена нами [ранее](https://github.com/nata-vorobyeva/QA-nlp/blob/master/ReaderTrain.ipynb). Будем использовать сохранённые веса этой модели.  \n",
    "2. Построить модель `Retriever`, выбирающую из всего множества контекстов `n` наиболее подходящих. В качестве меры похожести используется косинусная мера близости векторов. Для преобразования вопросов и контекстов в вектора для определения похожести используется tf-idf подход. Основа модели - [разработка](http://docs.deeppavlov.ai/en/0.17.2/apiref/models/vectorizers.html) команды DeepPavlov, позволяющая создавать tf-idf вектора для контекстов и вопросов.  \n",
    "Наша задача здесь - дополнить её возможностью выбирать наиболее подходящие констексты в смысле выбранного критерия оптимальности.   \n",
    "3. Найти итоговый ответ для каждого вопроса с помощью модели `Reader`. Для этого:  \n",
    "- для каждого из выбранных контекстов предсказать начало и конец ответа;  \n",
    "- выбрать наиболее правдоподобный контекст. Критерий - наибольшая совместная вероятность того, что выбранные начало и конец ответа являются верными. При необходимости скорректировать критерий дополнительными весами;\n",
    "- сформировать итоговый текстовый ответ.  \n",
    "4. Оценить критерии качества совместной работы `Retriever` и `Reader`. Оценить снижение метрик в сравнении с результатами п.1. Дополнительно сравнить с результатами датасета SberQuAD."
   ]
  },
  {
   "cell_type": "code",
   "execution_count": 2,
   "id": "f1c384a2",
   "metadata": {},
   "outputs": [],
   "source": [
    "import matplotlib.pyplot as plt\n",
    "%matplotlib inline\n",
    "import numpy as np\n",
    "import os\n",
    "os.environ[\"CUDA_VISIBLE_DEVICES\"] = \"6, 7\"\n",
    "import torch\n",
    "import torch.nn as nn\n",
    "from torch.utils.data import DataLoader\n",
    "\n",
    "from deeppavlov.models.tokenizers.ru_tokenizer import RussianTokenizer\n",
    "from itertools import repeat\n",
    "from scipy.special import softmax\n",
    "from transformers import logging, AutoTokenizer, AutoModel\n",
    "logging.set_verbosity_error()\n",
    "\n",
    "import util\n",
    "from models import Retriever, RUBertForQA"
   ]
  },
  {
   "cell_type": "markdown",
   "id": "16d59621",
   "metadata": {},
   "source": [
    "### 1. Оценка качества закрытой вопросно-ответной системы"
   ]
  },
  {
   "cell_type": "markdown",
   "id": "fd0119bf",
   "metadata": {},
   "source": [
    "Веса для модели `Reader` уже подготовлены. Загрузим их."
   ]
  },
  {
   "cell_type": "code",
   "execution_count": 3,
   "id": "83b13573",
   "metadata": {},
   "outputs": [
    {
     "name": "stderr",
     "output_type": "stream",
     "text": [
      "/home/naanvorobeva/miniconda3/envs/python3.7/lib/python3.7/site-packages/cryptography/hazmat/backends/openssl/x509.py:17: CryptographyDeprecationWarning: This version of cryptography contains a temporary pyOpenSSL fallback path. Upgrade pyOpenSSL now.\n",
      "  utils.DeprecatedIn35,\n"
     ]
    },
    {
     "data": {
      "text/plain": [
       "<All keys matched successfully>"
      ]
     },
     "execution_count": 3,
     "metadata": {},
     "output_type": "execute_result"
    }
   ],
   "source": [
    "BATCH_SIZE = 2**8\n",
    "DROPOUT = 0.5\n",
    "model_name = \"DeepPavlov/rubert-base-cased\"\n",
    "max_length = 512\n",
    "tokenizer = AutoTokenizer.from_pretrained(model_name)\n",
    "path_to_dict = '../model checkpoints/QA_best.pt'\n",
    "bert = AutoModel.from_pretrained(model_name, num_hidden_layers = 9)\n",
    "reader = RUBertForQA(bert, DROPOUT)\n",
    "reader = torch.nn.DataParallel(reader, device_ids=[0, 1]).cuda()\n",
    "reader.load_state_dict(torch.load(path_to_dict))"
   ]
  },
  {
   "cell_type": "markdown",
   "id": "2b7a6ec7",
   "metadata": {},
   "source": [
    "Читаем файл с выборкой, готовим словари с контекстами (далее - документами), вопросами и ответами. `question_context` - словарь, содержащий для каждого id вопроса id \"родного\" документа."
   ]
  },
  {
   "cell_type": "code",
   "execution_count": 4,
   "id": "a8617872",
   "metadata": {},
   "outputs": [
    {
     "name": "stdout",
     "output_type": "stream",
     "text": [
      "Number of questions: 91\n",
      "Number of documents: 119\n"
     ]
    }
   ],
   "source": [
    "context, question, answer, question_context = util.read_lb('data/qa_lb.json')\n",
    "query_id = list(question.keys())\n",
    "query_text = list(question.values())\n",
    "native_doc_id = list(question_context.values())\n",
    "native_doc_text = [context[v] for v in native_doc_id]\n",
    "print('Number of questions:', len(question))\n",
    "print('Number of documents:', len(context))"
   ]
  },
  {
   "cell_type": "markdown",
   "id": "48841c46",
   "metadata": {},
   "source": [
    " Получим метрики."
   ]
  },
  {
   "cell_type": "code",
   "execution_count": 5,
   "id": "b18f25f9",
   "metadata": {},
   "outputs": [
    {
     "name": "stderr",
     "output_type": "stream",
     "text": [
      "100%|█████████████████████████████████████████████████████████████████████████████████████████████████████████████████████████████████| 1/1 [00:05<00:00,  5.04s/it]\n"
     ]
    },
    {
     "name": "stdout",
     "output_type": "stream",
     "text": [
      "{'F1': 79.18811660701921, 'EM': 62.637362637362635}\n"
     ]
    }
   ],
   "source": [
    "# get encodings and create data loader object\n",
    "encoding_init = (tokenizer(native_doc_text, query_text,\n",
    "                             truncation=True, padding=True, max_length = max_length, return_tensors = 'pt'))\n",
    "dataset_init = util.SquadDataset(encoding_init)\n",
    "loader_init = DataLoader(dataset_init, batch_size=BATCH_SIZE, shuffle=False)\n",
    "\n",
    "# get predictions (logits), construct text predicted answers and evaluate quality\n",
    "logp_start_init, logp_end_init, _ = util.get_logits(reader, loader_init, get_loss=False)\n",
    "pred_answer_init, _ = util.get_answer(logp_start_init, logp_end_init, \n",
    "    native_doc_text, native_doc_id, query_id, encoding_init)\n",
    "metrics_init = util.eval_dicts(answer, pred_answer_init, False)\n",
    "print(metrics_init)"
   ]
  },
  {
   "cell_type": "markdown",
   "id": "1d2dd8ff",
   "metadata": {},
   "source": [
    "Посмотрим, есть ли токены, которые не смог преобразовать tokenizer"
   ]
  },
  {
   "cell_type": "code",
   "execution_count": 6,
   "id": "5c2c6d35",
   "metadata": {},
   "outputs": [
    {
     "name": "stdout",
     "output_type": "stream",
     "text": [
      "Number of examples with UNK token in a dataset: 0\n"
     ]
    }
   ],
   "source": [
    "unk_token = tokenizer.unk_token\n",
    "unk_token_idx = tokenizer.convert_tokens_to_ids(unk_token)\n",
    "num_unk_seq = torch.unique(torch.where(encoding_init['input_ids'] == unk_token_idx)[0])\n",
    "print('Number of examples with UNK token in a dataset:', num_unk_seq.shape[0])"
   ]
  },
  {
   "cell_type": "markdown",
   "id": "c5265133",
   "metadata": {},
   "source": [
    "Запомним: F1 = 79%, EM = 63%. Результаты почти не отличаются от SberQuAD: 82/63. И в преобразованных данных нет UNK токенов. Начало хорошее."
   ]
  },
  {
   "cell_type": "markdown",
   "id": "b897f43c",
   "metadata": {},
   "source": [
    "### 2. Модель `Retriever`"
   ]
  },
  {
   "cell_type": "markdown",
   "id": "b55be32f",
   "metadata": {},
   "source": [
    "Подготовим данные"
   ]
  },
  {
   "cell_type": "code",
   "execution_count": 7,
   "id": "ef4eda03",
   "metadata": {},
   "outputs": [],
   "source": [
    "doc = list(context.values())\n",
    "doc_id = list(context.keys())\n",
    "doc_num = list(range(len(doc)))\n",
    "save_path = 'tf_idf_lb_dev.npz'\n",
    "load_path = 'tf_idf_lb_dev.npz'\n",
    "hash_size = 2**24\n",
    "tokenizer_tf_idf = RussianTokenizer(lemmas = True, ngram_range = (1, 2))"
   ]
  },
  {
   "cell_type": "markdown",
   "id": "f0a2514e",
   "metadata": {},
   "source": [
    "Следующая ячейка нужна для единовременной загрузки в модель документов, формирования из них tf-idf матрицы и сохранения её локально по пути в переменной `save_path`. Если матрица уже создана, выполнение ячейки можно пропустить."
   ]
  },
  {
   "cell_type": "code",
   "execution_count": 88,
   "id": "fa836750",
   "metadata": {},
   "outputs": [
    {
     "name": "stderr",
     "output_type": "stream",
     "text": [
      "2022-05-05 14:59:56.270 INFO in 'deeppavlov.models.vectorizers.hashing_tfidf_vectorizer'['hashing_tfidf_vectorizer'] at line 153: Tokenizing batch...\n",
      "2022-05-05 14:59:59.533 INFO in 'deeppavlov.models.vectorizers.hashing_tfidf_vectorizer'['hashing_tfidf_vectorizer'] at line 155: Counting hash...\n",
      "2022-05-05 14:59:59.542 INFO in 'deeppavlov.models.vectorizers.hashing_tfidf_vectorizer'['hashing_tfidf_vectorizer'] at line 214: Saving tfidf matrix to /home/naanvorobeva/lab/QA/tf_idf_lb_dev.npz\n"
     ]
    }
   ],
   "source": [
    "retriever_init = Retriever(tokenizer = tokenizer_tf_idf, hash_size = hash_size, save_path = save_path, \n",
    "                                load_path = load_path, **{\"mode\": 'train'})\n",
    "retriever_init.fit(docs = doc, doc_ids = doc_id, doc_nums = doc_num)\n",
    "retriever_init.save()"
   ]
  },
  {
   "cell_type": "markdown",
   "id": "ca8c3a66",
   "metadata": {},
   "source": [
    "Создадим объект модели, загрузим в неё вопросы и получим id наиболее релевантных документов - `retrieved_doc_id`.  "
   ]
  },
  {
   "cell_type": "code",
   "execution_count": 8,
   "id": "ac347077",
   "metadata": {},
   "outputs": [
    {
     "name": "stderr",
     "output_type": "stream",
     "text": [
      "2022-05-05 19:06:14.435 INFO in 'deeppavlov.models.vectorizers.hashing_tfidf_vectorizer'['hashing_tfidf_vectorizer'] at line 264: Loading tfidf matrix from /home/naanvorobeva/lab/QA/tf_idf_lb_dev.npz\n",
      "2022-05-05 19:06:15.462 INFO in 'deeppavlov.models.vectorizers.hashing_tfidf_vectorizer'['hashing_tfidf_vectorizer'] at line 264: Loading tfidf matrix from /home/naanvorobeva/lab/QA/tf_idf_lb_dev.npz\n"
     ]
    }
   ],
   "source": [
    "retriever = Retriever(tokenizer = tokenizer_tf_idf, hash_size = hash_size, \n",
    "                                       save_path = save_path, load_path = load_path, **{\"mode\": 'infer'})\n",
    "n = 3\n",
    "retrieved_doc_id, total_doc_similarity = retriever.retrieve(query_text, n)\n",
    "retrieved_doc_similarity = np.partition(total_doc_similarity, -n, axis=0)[-n:].T\n",
    "retrieved_doc_text = [context[k] for k in retrieved_doc_id]"
   ]
  },
  {
   "cell_type": "markdown",
   "id": "846a116e",
   "metadata": {},
   "source": [
    "Оценим точность модели (показатель `accuracy`): для каждого вопроса проверим, входит ли \"родной\" для него документ в список документов, выбранных моделью. Число вопросов с правильно выбранным документом делим на общее число вопросов.  \n",
    "Построим зависимость показателя `accuracy` от количества выбранных документов для каждого вопроса."
   ]
  },
  {
   "cell_type": "code",
   "execution_count": 9,
   "id": "47afc191",
   "metadata": {},
   "outputs": [
    {
     "data": {
      "text/plain": [
       "Text(0.5, 1.0, 'Retriever accuracy')"
      ]
     },
     "execution_count": 9,
     "metadata": {},
     "output_type": "execute_result"
    },
    {
     "data": {
      "image/png": "[encoded data removed]",
      "text/plain": [
       "<Figure size 720x360 with 1 Axes>"
      ]
     },
     "metadata": {
      "needs_background": "light"
     },
     "output_type": "display_data"
    }
   ],
   "source": [
    "retriever_acc = []\n",
    "num_retrieved_doc = 10\n",
    "for i in range(1, num_retrieved_doc + 1):\n",
    "    retriever_acc.append(\n",
    "        util.retriever_accuracy(total_doc_similarity, query_id, doc_id, question_context, i))\n",
    "fig, ax = plt.subplots(nrows=1, ncols=1, figsize=(10, 5))\n",
    "\n",
    "ax.plot(range(1, num_retrieved_doc + 1), retriever_acc)\n",
    "ax.set_xlabel('number of retrieved documents')\n",
    "ax.set_xticks(range(1, num_retrieved_doc + 1))\n",
    "ax.set_ylabel('accuracy')\n",
    "ax.set_title('Retriever accuracy')"
   ]
  },
  {
   "cell_type": "markdown",
   "id": "67bf50b6",
   "metadata": {},
   "source": [
    "Результаты для `n = 3` документов: в 85% случаев модель в список релевантных документов включает \"родной\" для вопроса документ. Для SberQUAD показатель был намного лучше: 94%. Остановимся пока на `n = 3`."
   ]
  },
  {
   "cell_type": "markdown",
   "id": "01274485",
   "metadata": {},
   "source": [
    "### Предсказание ответов. Модель `Reader`"
   ]
  },
  {
   "cell_type": "markdown",
   "id": "4f029226",
   "metadata": {},
   "source": [
    "Наконец, загрузим в модель `Reader` вопросы и выбранные релевантные документы. Для каждого вопроса выберем наиболее правдоподобный ответ в смысле выбранного критерия: максимальная совместная вероятность того, что предсказанные начало и конец ответа являются верными.  \n",
    "Аналогично посмотрим на точность модели `Reader`: как часто модель извлекает итоговый ответ из \"родного\" для вопроса документа."
   ]
  },
  {
   "cell_type": "code",
   "execution_count": 10,
   "id": "b5a84626",
   "metadata": {},
   "outputs": [
    {
     "name": "stderr",
     "output_type": "stream",
     "text": [
      "100%|█████████████████████████████████████████████████████████████████████████████████████████████████████████████████████████████████| 2/2 [00:00<00:00,  2.28it/s]\n"
     ]
    },
    {
     "name": "stdout",
     "output_type": "stream",
     "text": [
      "{'F1': 56.698542425756386, 'EM': 47.252747252747255}\n",
      "Reader accuracy: 0.5494505494505495\n"
     ]
    }
   ],
   "source": [
    "# expand queries to satisfy dimension.\n",
    "# Query list has lenght [number of queries],\n",
    "# but doc list lenght is [number of queries * n], n is number of docs retrieved for each query.\n",
    "# so we need to duplicate each query n times\n",
    "retrieved_query_text = [x for item in query_text for x in repeat(item, n)]\n",
    "\n",
    "# get encodings and create data loader object\n",
    "encoding = (tokenizer(retrieved_doc_text, retrieved_query_text,\n",
    "                             truncation=True, padding=True, max_length = max_length, return_tensors = 'pt'))\n",
    "dataset = util.SquadDataset(encoding)\n",
    "loader = DataLoader(dataset, batch_size=BATCH_SIZE, shuffle=False)\n",
    "\n",
    "# get predictions (logits), construct text predicted answers and evaluate quality\n",
    "logp_start, logp_end, _ = util.get_logits(reader, loader, get_loss=False)\n",
    "pred_answer, pred_doc_id = util.get_answer(logp_start, logp_end, \n",
    "    retrieved_doc_text, retrieved_doc_id, query_id, encoding)\n",
    "metrics = util.eval_dicts(answer, pred_answer, False)\n",
    "print(metrics)\n",
    "acc = np.sum(pred_doc_id==native_doc_id) / len(native_doc_id)\n",
    "print('Reader accuracy:', acc)"
   ]
  },
  {
   "cell_type": "markdown",
   "id": "2a9b4a6b",
   "metadata": {},
   "source": [
    "Результаты плачевные:  \n",
    "    1. Метрики качества существенно снизились: F1/EM = 57/47 против 80/63 для закрытой вопросно-ответной системы.  \n",
    "    2. Модель выбирает верный документ только в 55% случаев. То есть если в список релевантных документов, выбранных `Retriever`, попал правильный документ, модель `Reader` может извлечь ответ из другого документа.    \n",
    "  \n",
    "  \n",
    "Как и для SberQuAD, добавим в `Reader` в критерий выбора документа для поиска ответа дополнительные веса, пропорциональные мере схожести документа и вопроса. Нормируем меру схожести в веса с помощью `softmax`, добавив \"температуру\"."
   ]
  },
  {
   "cell_type": "markdown",
   "id": "d4d061d7",
   "metadata": {},
   "source": [
    "Заново получим ответы для тех же данных, но с учётом весов."
   ]
  },
  {
   "cell_type": "code",
   "execution_count": 11,
   "id": "49da76c4",
   "metadata": {},
   "outputs": [
    {
     "name": "stdout",
     "output_type": "stream",
     "text": [
      "{'F1': 64.47333478846083, 'EM': 52.747252747252745}\n",
      "Reader accuracy with weights: 0.7032967032967034\n"
     ]
    }
   ],
   "source": [
    "T = 0.01\n",
    "weights = softmax(retrieved_doc_similarity / T, axis=1)\n",
    "\n",
    "# here we don't need to create encodings, data loader and get logits.\n",
    "# we can use existing predictions. \n",
    "# All we need to do is to add weights to get_answer function\n",
    "\n",
    "# construct text predicted answers and evaluate quality\n",
    "pred_answer_weighted, pred_doc_id_weighted = util.get_answer(logp_start, logp_end, \n",
    "    retrieved_doc_text, retrieved_doc_id, query_id, encoding, weights)\n",
    "metrics_weighted = util.eval_dicts(answer, pred_answer_weighted, False)\n",
    "print(metrics_weighted)\n",
    "acc_weighted = np.sum(pred_doc_id_weighted==native_doc_id) / len(native_doc_id)\n",
    "print('Reader accuracy with weights:', acc_weighted)"
   ]
  },
  {
   "cell_type": "markdown",
   "id": "e04a7854",
   "metadata": {},
   "source": [
    "Стало лучше, но недостаточно хорошо. Напомним, что аналогичные метрики для SberQuAD составили 75/58 при 89% показателе `Reader accuracy` (доля правильно выбранных документов для вопроса). У нас только 65/53 при 70%. "
   ]
  },
  {
   "cell_type": "markdown",
   "id": "73d62fa6",
   "metadata": {},
   "source": [
    "### 4. Оценка результатов. Выводы"
   ]
  },
  {
   "cell_type": "markdown",
   "id": "0b0c6a85",
   "metadata": {},
   "source": [
    "Соберём метрики качества. Будем сравнивать результаты на пользовательском датасете для систем закрытого типа и открытого типа с весами. Промежуточный вариант без весов не представляет особого интереса. Приведем также аналогичные результаты для датасета SberQuAD"
   ]
  },
  {
   "cell_type": "code",
   "execution_count": 12,
   "id": "6b70de71",
   "metadata": {},
   "outputs": [
    {
     "data": {
      "image/png": "[encoded data removed]",
      "text/plain": [
       "<Figure size 864x576 with 1 Axes>"
      ]
     },
     "metadata": {
      "needs_background": "light"
     },
     "output_type": "display_data"
    }
   ],
   "source": [
    "# set width of bar\n",
    "barWidth = 0.2\n",
    "fig = plt.subplots(figsize =(12, 8))\n",
    " \n",
    "# set height of bar\n",
    "sberquad_close = [0, 82, 63]\n",
    "sber_open = [89, 75, 58]\n",
    "custom_close = [0, metrics_init['F1'], metrics_init['EM']]\n",
    "custom_open = [acc_weighted * 100, metrics_weighted['F1'], metrics_weighted['EM']]\n",
    "\n",
    "# Set position of bar on X axis\n",
    "br1 = np.arange(len(sber_open))\n",
    "br2 = [x + barWidth for x in br1]\n",
    "br3 = [x + barWidth for x in br2]\n",
    "br4 = [x + barWidth for x in br3]\n",
    "\n",
    "# Make the plot\n",
    "plt.bar(br1, sberquad_close, width = barWidth, edgecolor ='grey', label ='SberQuAD: Close-domain')\n",
    "plt.bar(br2, sber_open, width = barWidth, edgecolor ='grey', label ='SberQuAD: Open-domain + weights')\n",
    "plt.bar(br3, custom_close, width = barWidth, edgecolor ='grey', label ='Custom: Close-domain')\n",
    "plt.bar(br4, custom_open, width = barWidth, edgecolor ='grey', label ='Custom: Open-domain + weights')\n",
    "\n",
    "# Adding ticks\n",
    "plt.ylabel('%')\n",
    "plt.yticks([i for i in range(5, 105, 5)])\n",
    "plt.xticks([r + barWidth for r in range(len(sber_open))],\n",
    "        ['Accuracy', 'F1', 'EM'])\n",
    " \n",
    "plt.legend()\n",
    "plt.show()"
   ]
  },
  {
   "cell_type": "markdown",
   "id": "df3e4a63",
   "metadata": {},
   "source": [
    "По понятным причинам лучшие метрики качества показала закрытая модель: F1/EM = 79/63.  \n",
    "Лучшие результаты для открытой модели: F1/EM = 65/53. Причина падения: очень невысокая способность `Reader` правильно оценить верояность, что верный ответ находится в \"родном\" для вопроса документе. Так, ответ выбран из верного документа только в 70% случаев, это очень мало. Аналогичный результат для  SberQUAD: 89%.  \n",
    "Возможные причины:  \n",
    "1. Особенность пользовательского датасета: многие параграфы отчёта, который использовался для формирования датасета, рассказывают об одних и тех же показателях деятельности компании, только в разных временных и других аспектах. То есть параграфы используют схожую лексику, из-за чего выбор ответа становится не так прост, как для SberQuAD.  \n",
    "2. Невысокая точность `Retriever` при выборе документов. Если для SberQuAD при `n = 3` в 94% случаев выбранные документы содержали верный, то для нашего датасета доля снизилася на 9 п.п. до 85%.  \n",
    "3. Непродуманный процесс деления отчёта на параграфы (документы).\n",
    "  \n",
    "В ноутбуке результаты не представлены, но мы пробовали изменить количество документов, выбираемых `Retriever` для каждого вопроса. Это не привело в значимым результатам.\n",
    "   "
   ]
  },
  {
   "cell_type": "markdown",
   "id": "709be488",
   "metadata": {},
   "source": [
    "### Дополнительно"
   ]
  },
  {
   "cell_type": "markdown",
   "id": "4d49b73d",
   "metadata": {},
   "source": [
    "В [файле](https://github.com/nata-vorobyeva/QA-nlp/blob/master/ODQA_LB_results.txt) собрали текстовые результаты открытой вопросно-ответной системы: вопрос, документ, предсказанный и правильный ответы"
   ]
  },
  {
   "cell_type": "code",
   "execution_count": null,
   "id": "b4abfe0b",
   "metadata": {},
   "outputs": [],
   "source": []
  }
 ],
 "metadata": {
  "kernelspec": {
   "display_name": "python3.7",
   "language": "python",
   "name": "python3.7"
  },
  "language_info": {
   "codemirror_mode": {
    "name": "ipython",
    "version": 3
   },
   "file_extension": ".py",
   "mimetype": "text/x-python",
   "name": "python",
   "nbconvert_exporter": "python",
   "pygments_lexer": "ipython3",
   "version": "3.7.13"
  }
 },
 "nbformat": 4,
 "nbformat_minor": 5
}
