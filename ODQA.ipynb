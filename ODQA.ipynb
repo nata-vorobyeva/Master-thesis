{
 "cells": [
  {
   "cell_type": "markdown",
   "id": "0b4a32bf",
   "metadata": {},
   "source": [
    "## Open domain question answering system on SberQuAD dataset"
   ]
  },
  {
   "cell_type": "markdown",
   "id": "8b754628",
   "metadata": {},
   "source": [
    "**Основные задачи:**  \n",
    "1. Построить открытую вопросно-ответную систему.  \n",
    "2. Оценить результаты работы на примере датасета SberQuAD, сравнить с результатами закрытой вопросно-ответной системы.  \n",
    "   \n",
    "В качестве метрик будут использованы F1 и EM.  \n",
    "В качестве датасета будет использована валидационная выборка SberQuAD."
   ]
  },
  {
   "cell_type": "markdown",
   "id": "0ac1a789",
   "metadata": {},
   "source": [
    "**План:**  \n",
    "1. Оценить метрики качества закрытой вопросно-ответной системы, когда модели предлагается найти ответ в единственном \"родном\" для неё контексте. Будем использовать эти метрики в качестве эталонных, чтобы оценить, насколько они снижаются при переходе в открытый тип, когда у модели вместо одного заданного контекста есть некоторое их множество.   \n",
    "Модель для поиска ответа в контексте (`Reader`) построена нами ранее на обучающей выборке SberQuAD. Будем использовать сохранённые веса этой модели.  \n",
    "2. Построить модель `Retriever`, выбирающую из всего множества контекстов `n` наиболее подходящих. В качестве меры похожести используется косинусная мера близости векторов. Для преобразования вопросов и контекстов в вектора для определения похожести используется tf-idf подход. Основа модели - разработка команды DeepPavlov, позволяющая создавать tf-idf вектора для контекстов и вопросов (http://docs.deeppavlov.ai/en/0.17.2/apiref/models/vectorizers.html).  \n",
    "Наша задача здесь - дополнить её возможностью выбирать наиболее подходящие констексты в смысле выбранного критерия оптимальности.   \n",
    "3. Найти итоговый ответ для каждого вопроса с помощью модели `Reader`. Для этого:  \n",
    "- для каждого из выбранных контекстов предсказать начало и конец ответа;  \n",
    "- выбрать наиболее правдоподобный контекст. Критерий - наибольшая совместная вероятность того, что выбранные начало и конец ответа являются верными. При необходимости скорректировать критерий дополнительными весами;\n",
    "- сформировать итоговый текстовый ответ.  \n",
    "4. Оценить критерии качества совместной работы `Retriever` и `Reader`. Оценить снижение метрик в сравнении с результатами п.1."
   ]
  },
  {
   "cell_type": "code",
   "execution_count": 2,
   "id": "f1c384a2",
   "metadata": {},
   "outputs": [],
   "source": [
    "import matplotlib.pyplot as plt\n",
    "%matplotlib inline\n",
    "import numpy as np\n",
    "import os\n",
    "os.environ[\"CUDA_VISIBLE_DEVICES\"] = \"6, 7\"\n",
    "import torch\n",
    "import torch.nn as nn\n",
    "from torch.utils.data import DataLoader\n",
    "\n",
    "from deeppavlov.models.tokenizers.ru_tokenizer import RussianTokenizer\n",
    "from itertools import repeat\n",
    "from scipy.special import softmax\n",
    "from transformers import logging, AutoTokenizer, AutoModel\n",
    "logging.set_verbosity_error()\n",
    "\n",
    "import util\n",
    "from models import Retriever, RUBertForQA"
   ]
  },
  {
   "cell_type": "markdown",
   "id": "16d59621",
   "metadata": {},
   "source": [
    "### 1. Оценка качества закрытой вопросно-ответной системы"
   ]
  },
  {
   "cell_type": "markdown",
   "id": "fd0119bf",
   "metadata": {},
   "source": [
    "Веса для модели `Reader` уже подготовлены. Загрузим их. Отметим, что используемый датасет (валидационная часть SberQuAD) не использовалась для обучения `Reader`, поэтому смело можем проверить на ней работу модели."
   ]
  },
  {
   "cell_type": "code",
   "execution_count": 3,
   "id": "83b13573",
   "metadata": {},
   "outputs": [
    {
     "name": "stderr",
     "output_type": "stream",
     "text": [
      "/home/naanvorobeva/miniconda3/envs/python3.7/lib/python3.7/site-packages/cryptography/hazmat/backends/openssl/x509.py:17: CryptographyDeprecationWarning: This version of cryptography contains a temporary pyOpenSSL fallback path. Upgrade pyOpenSSL now.\n",
      "  utils.DeprecatedIn35,\n"
     ]
    },
    {
     "data": {
      "text/plain": [
       "<All keys matched successfully>"
      ]
     },
     "execution_count": 3,
     "metadata": {},
     "output_type": "execute_result"
    }
   ],
   "source": [
    "BATCH_SIZE = 2**8\n",
    "DROPOUT = 0.5\n",
    "model_name = \"DeepPavlov/rubert-base-cased\"\n",
    "max_length = 512\n",
    "tokenizer = AutoTokenizer.from_pretrained(model_name)\n",
    "path_to_dict = '../model checkpoints/QA_best.pt'\n",
    "bert = AutoModel.from_pretrained(model_name, num_hidden_layers = 9)\n",
    "reader = RUBertForQA(bert, DROPOUT)\n",
    "reader = torch.nn.DataParallel(reader, device_ids=[0, 1]).cuda()\n",
    "reader.load_state_dict(torch.load(path_to_dict))"
   ]
  },
  {
   "cell_type": "markdown",
   "id": "2b7a6ec7",
   "metadata": {},
   "source": [
    "Читаем файл с выборкой, готовим словари с контекстами (далее - документами), вопросами и ответами. `native_question_context` - словарь, содержащий для каждого id вопроса id \"родного\" документа."
   ]
  },
  {
   "cell_type": "code",
   "execution_count": 23,
   "id": "a8617872",
   "metadata": {},
   "outputs": [
    {
     "name": "stdout",
     "output_type": "stream",
     "text": [
      "Number of questions: 5036\n",
      "Number of documents: 3951\n"
     ]
    }
   ],
   "source": [
    "context, question, answer, question_context = util.read_squad('data/dev-v1.1.json')\n",
    "query_id = list(question.keys())\n",
    "query_text = list(question.values())\n",
    "native_doc_id = list(question_context.values())\n",
    "native_doc_text = [context[v] for v in native_doc_id]\n",
    "print('Number of questions:', len(question))\n",
    "print('Number of documents:', len(context))"
   ]
  },
  {
   "cell_type": "markdown",
   "id": "48841c46",
   "metadata": {},
   "source": [
    "Количество документов меньше количества вопросов, т.к. в SberQuAD для одного документа предусмотрено несколько вопросов.  \n",
    "Получим метрики."
   ]
  },
  {
   "cell_type": "code",
   "execution_count": 6,
   "id": "b18f25f9",
   "metadata": {},
   "outputs": [
    {
     "name": "stderr",
     "output_type": "stream",
     "text": [
      "100%|███████████████████████████████████████████████████████████████████████████████████████████████████████████████████████████████| 20/20 [00:28<00:00,  1.45s/it]\n"
     ]
    },
    {
     "name": "stdout",
     "output_type": "stream",
     "text": [
      "{'F1': 82.32498149206079, 'EM': 63.185067513899924}\n"
     ]
    }
   ],
   "source": [
    "# get encodings and create data loader object\n",
    "encoding_init = (tokenizer(native_doc_text, query_text,\n",
    "                             truncation=True, padding=True, max_length = max_length, return_tensors = 'pt'))\n",
    "dataset_init = util.SquadDataset(encoding_init)\n",
    "loader_init = DataLoader(dataset_init, batch_size=BATCH_SIZE, shuffle=False)\n",
    "\n",
    "# get predictions (logits), construct text predicted answers and evaluate quality\n",
    "logp_start_init, logp_end_init, _ = util.get_logits(reader, loader_init, get_loss=False)\n",
    "pred_answer_init, _ = util.get_answer(logp_start_init, logp_end_init, \n",
    "    native_doc_text, native_doc_id, query_id, encoding_init)\n",
    "metrics_init = util.eval_dicts(answer, pred_answer_init, False)\n",
    "print(metrics_init)"
   ]
  },
  {
   "cell_type": "markdown",
   "id": "c5265133",
   "metadata": {},
   "source": [
    "Запомним: F1 = 82%, EM = 63%"
   ]
  },
  {
   "cell_type": "markdown",
   "id": "b897f43c",
   "metadata": {},
   "source": [
    "### 2. Модель `Retriever`"
   ]
  },
  {
   "cell_type": "markdown",
   "id": "b55be32f",
   "metadata": {},
   "source": [
    "Подготовим данные"
   ]
  },
  {
   "cell_type": "code",
   "execution_count": 7,
   "id": "ef4eda03",
   "metadata": {},
   "outputs": [],
   "source": [
    "doc = list(context.values())\n",
    "doc_id = list(context.keys())\n",
    "doc_num = list(range(len(doc)))\n",
    "save_path = 'tf_idf_sberquad_dev.npz'\n",
    "load_path = 'tf_idf_sberquad_dev.npz'\n",
    "hash_size = 2**24\n",
    "tokenizer_tf_idf = RussianTokenizer(lemmas = True, ngram_range = (1, 2))"
   ]
  },
  {
   "cell_type": "markdown",
   "id": "f0a2514e",
   "metadata": {},
   "source": [
    "Следующая ячейка нужна для единовременной загрузки в модель документов, формирования из них tf-idf матрицы и сохранения её локально по пути в переменной `save_path`. Если матрица уже создана, выполнение ячейки можно пропустить."
   ]
  },
  {
   "cell_type": "code",
   "execution_count": 7,
   "id": "fa836750",
   "metadata": {},
   "outputs": [
    {
     "name": "stderr",
     "output_type": "stream",
     "text": [
      "2022-04-28 16:00:08.343 INFO in 'deeppavlov.models.vectorizers.hashing_tfidf_vectorizer'['hashing_tfidf_vectorizer'] at line 153: Tokenizing batch...\n",
      "2022-04-28 16:01:35.565 INFO in 'deeppavlov.models.vectorizers.hashing_tfidf_vectorizer'['hashing_tfidf_vectorizer'] at line 155: Counting hash...\n",
      "2022-04-28 16:01:36.35 INFO in 'deeppavlov.models.vectorizers.hashing_tfidf_vectorizer'['hashing_tfidf_vectorizer'] at line 214: Saving tfidf matrix to /home/naanvorobeva/lab/QA/tf_idf_sberquad_dev.npz\n"
     ]
    }
   ],
   "source": [
    "retriever_init = Retriever(tokenizer = tokenizer_tf_idf, hash_size = hash_size, save_path = save_path, \n",
    "                                load_path = load_path, **{\"mode\": 'train'})\n",
    "retriever_init.fit(docs = doc, doc_ids = doc_id, doc_nums = doc_num)\n",
    "retriever_init.save()"
   ]
  },
  {
   "cell_type": "markdown",
   "id": "ca8c3a66",
   "metadata": {},
   "source": [
    "Создадим объект модели, загрузим в неё вопросы и получим id наиболее релевантных документов - `retrieved_doc_id`.  \n",
    "Выберем по `n = 3` документа для каждого вопроса.  \n",
    "`total_doc_similarity` - вспомогательная матрица, содержащая для каждого вопроса (в столбцах) значения меры схожести для каждого документа (в строках).  \n",
    "Из неё получим `retrieved_doc_similarity` - матрицу, в которой для каждого вопроса (в строках) содержатся значения похожести только для выбранных документов (в столбцах). Размерность матрицы [количество вопросов, количество выбранных документов для вопроса]"
   ]
  },
  {
   "cell_type": "code",
   "execution_count": 8,
   "id": "ac347077",
   "metadata": {},
   "outputs": [
    {
     "name": "stderr",
     "output_type": "stream",
     "text": [
      "2022-05-04 15:51:34.407 INFO in 'deeppavlov.models.vectorizers.hashing_tfidf_vectorizer'['hashing_tfidf_vectorizer'] at line 264: Loading tfidf matrix from /home/naanvorobeva/lab/QA/tf_idf_sberquad_dev.npz\n",
      "2022-05-04 15:51:48.415 INFO in 'deeppavlov.models.vectorizers.hashing_tfidf_vectorizer'['hashing_tfidf_vectorizer'] at line 264: Loading tfidf matrix from /home/naanvorobeva/lab/QA/tf_idf_sberquad_dev.npz\n"
     ]
    }
   ],
   "source": [
    "retriever = Retriever(tokenizer = tokenizer_tf_idf, hash_size = hash_size, \n",
    "                                       save_path = save_path, load_path = load_path, **{\"mode\": 'infer'})\n",
    "n = 3\n",
    "retrieved_doc_id, total_doc_similarity = retriever.retrieve(query_text, n)\n",
    "retrieved_doc_similarity = np.partition(total_doc_similarity, -n, axis=0)[-n:].T\n",
    "retrieved_doc_text = [context[k] for k in retrieved_doc_id]"
   ]
  },
  {
   "cell_type": "markdown",
   "id": "846a116e",
   "metadata": {},
   "source": [
    "Интересным на наш взгляд будет оценить точность модели (показатель `accuracy`). Принцип расчёта простой. Для каждого вопроса проверяется, входит ли \"родной\" для него документ в список документов, выбранных моделью. Число вопросов с правильно выбранным документом делится на общее число вопросов.  \n",
    "Построим зависимость показателя `accuracy` от количества выбранных документов для каждого вопроса."
   ]
  },
  {
   "cell_type": "code",
   "execution_count": 9,
   "id": "47afc191",
   "metadata": {},
   "outputs": [
    {
     "data": {
      "text/plain": [
       "Text(0.5, 1.0, 'Retriever accuracy')"
      ]
     },
     "execution_count": 9,
     "metadata": {},
     "output_type": "execute_result"
    },
    {
     "data": {
      "image/png": "[encoded data removed]",
      "text/plain": [
       "<Figure size 720x360 with 1 Axes>"
      ]
     },
     "metadata": {
      "needs_background": "light"
     },
     "output_type": "display_data"
    }
   ],
   "source": [
    "retriever_acc = []\n",
    "num_retrieved_doc = 10\n",
    "for i in range(1, num_retrieved_doc + 1):\n",
    "    retriever_acc.append(\n",
    "        util.retriever_accuracy(total_doc_similarity, query_id, doc_id, question_context, i))\n",
    "fig, ax = plt.subplots(nrows=1, ncols=1, figsize=(10, 5))\n",
    "\n",
    "ax.plot(range(1, num_retrieved_doc + 1), retriever_acc)\n",
    "ax.set_xlabel('number of retrieved documents')\n",
    "ax.set_xticks(range(1, num_retrieved_doc + 1))\n",
    "ax.set_ylabel('accuracy')\n",
    "ax.set_title('Retriever accuracy')"
   ]
  },
  {
   "cell_type": "markdown",
   "id": "67bf50b6",
   "metadata": {},
   "source": [
    "Достаточно хорошие результаты уже для `n = 3` документов: в 94% случаев модель в список релевантных документов включает \"родной\" для вопроса документ. Остановимся на `n = 3`."
   ]
  },
  {
   "cell_type": "markdown",
   "id": "01274485",
   "metadata": {},
   "source": [
    "### Предсказание ответов. Модель `Reader`"
   ]
  },
  {
   "cell_type": "markdown",
   "id": "4f029226",
   "metadata": {},
   "source": [
    "Наконец, загрузим в модель `Reader` вопросы и выбранные релевантные документы. Для каждого вопроса выберем наиболее правдоподобный ответ в смысле выбранного критерия: максимальная совместная вероятность того, что предсказанные начало и конец ответа являются верными.  \n",
    "Аналогично посмотрим на точность модели `Reader`: как часто модель извлекает итоговый ответ из \"родного\" для вопроса документа."
   ]
  },
  {
   "cell_type": "code",
   "execution_count": 11,
   "id": "b5a84626",
   "metadata": {},
   "outputs": [
    {
     "name": "stderr",
     "output_type": "stream",
     "text": [
      "100%|███████████████████████████████████████████████████████████████████████████████████████████████████████████████████████████████| 60/60 [01:26<00:00,  1.45s/it]\n"
     ]
    },
    {
     "name": "stdout",
     "output_type": "stream",
     "text": [
      "{'F1': 62.19189094812787, 'EM': 48.35186656076251}\n",
      "Reader accuracy: 0.6888403494837172\n"
     ]
    }
   ],
   "source": [
    "# expand queries to satisfy dimension.\n",
    "# Query list has lenght [number of queries],\n",
    "# but doc list lenght is [number of queries * n], n is number of docs retrieved for each query.\n",
    "# so we need to duplicate each query n times\n",
    "retrieved_query_text = [x for item in query_text for x in repeat(item, n)]\n",
    "\n",
    "# get encodings and create data loader object\n",
    "encoding = (tokenizer(retrieved_doc_text, retrieved_query_text,\n",
    "                             truncation=True, padding=True, max_length = max_length, return_tensors = 'pt'))\n",
    "dataset = util.SquadDataset(encoding)\n",
    "loader = DataLoader(dataset, batch_size=BATCH_SIZE, shuffle=False)\n",
    "\n",
    "# get predictions (logits), construct text predicted answers and evaluate quality\n",
    "logp_start, logp_end, _ = util.get_logits(reader, loader, get_loss=False)\n",
    "pred_answer, pred_doc_id = util.get_answer(logp_start, logp_end, \n",
    "    retrieved_doc_text, retrieved_doc_id, query_id, encoding)\n",
    "metrics = util.eval_dicts(answer, pred_answer, False)\n",
    "print(metrics)\n",
    "acc = np.sum(pred_doc_id==native_doc_id) / len(native_doc_id)\n",
    "print('Reader accuracy:', acc)"
   ]
  },
  {
   "cell_type": "markdown",
   "id": "2a9b4a6b",
   "metadata": {},
   "source": [
    "Видим две неприятные вещи:  \n",
    "    1. Метрики качества существенно снизились: F1/EM = 62/48 против 82/63 для закрытой вопросно-ответной системы.  \n",
    "    2. Модель выбирает верный документ только в 69% случаев. То есть если в список релевантных документов, выбранных `Retriever`, попал правильный документ, модель `Reader` может извлечь ответ из другого документа.  \n",
    "Пока не анализируя причины такого поведения, постараемся улучшить работу модели `Reader`.  \n",
    "  \n",
    "  \n",
    "Идея проста. Если точность `Retriever` достаточно высокая, добавим в `Reader` в критерий выбора документа для поиска ответа дополнительные веса. Они будут пропорциональны мере схожести документа и вопроса, по которой `Retriever` выбирает релевантные документы. Тогда документы, в которых более уверен `Retriever`, получат больший вес и с большей верояностью будут выбраны моделью `Reader`.  "
   ]
  },
  {
   "cell_type": "markdown",
   "id": "5e028ac9",
   "metadata": {},
   "source": [
    "У нас есть данные о схожести каждого вопроса с каждым выбранным для него документом, хранящиеся в переменной `retrieved_doc_similarity`. Логично применить фунцию `softmax`, чтобы трансформировать эти значения в веса, в сумме равные единице.  \n",
    "Но здесь нужно отметить следущее. В качестве меры похожести мы используем косинусную меру близости, т.е. небольшие по величине значения. Это видно на распределении ниже."
   ]
  },
  {
   "cell_type": "code",
   "execution_count": 12,
   "id": "9840b98c",
   "metadata": {},
   "outputs": [
    {
     "data": {
      "text/plain": [
       "Text(0.5, 1.0, 'Similarity measure distribution')"
      ]
     },
     "execution_count": 12,
     "metadata": {},
     "output_type": "execute_result"
    },
    {
     "data": {
      "image/png": "[encoded data removed]",
      "text/plain": [
       "<Figure size 720x360 with 1 Axes>"
      ]
     },
     "metadata": {
      "needs_background": "light"
     },
     "output_type": "display_data"
    }
   ],
   "source": [
    "fig, ax = plt.subplots(nrows=1, ncols=1, figsize=(10, 5))\n",
    "ax.hist(retrieved_doc_similarity.flatten(), bins = 50, density = False)\n",
    "ax.set_xticks([p/10 for p in range(-1, 10, 1)], minor = True)\n",
    "ax.set_xlabel('similarity measure')\n",
    "ax.set_title('Similarity measure distribution')"
   ]
  },
  {
   "cell_type": "markdown",
   "id": "a680349b",
   "metadata": {},
   "source": [
    "Если применять `softmax` без корректирующих коэффициентов, мы получим равновероятный выбор.  \n",
    "Пример:"
   ]
  },
  {
   "cell_type": "code",
   "execution_count": 13,
   "id": "4a343e32",
   "metadata": {},
   "outputs": [
    {
     "name": "stdout",
     "output_type": "stream",
     "text": [
      "similarity measure: [0.048 0.066 0.122]\n",
      "weights after softmax: [0.323 0.329 0.348]\n"
     ]
    }
   ],
   "source": [
    "k = 0\n",
    "print('similarity measure:', np.round(retrieved_doc_similarity[k], 3))\n",
    "print('weights after softmax:', np.round(softmax(retrieved_doc_similarity[k]), 3))"
   ]
  },
  {
   "cell_type": "markdown",
   "id": "d4d061d7",
   "metadata": {},
   "source": [
    "Несмотря на то, что мера близости для разных документов отличается в разы (0.5 против 0.12), веса существенно не отличаются. Такой подход нам не поможет. Поэтому добавим т.н. \"температуру\", чтобы сделать выбор не таким равновероятным.  \n",
    "Заново получим ответы для тех же данных, но с учётом весов."
   ]
  },
  {
   "cell_type": "code",
   "execution_count": 14,
   "id": "49da76c4",
   "metadata": {},
   "outputs": [
    {
     "name": "stdout",
     "output_type": "stream",
     "text": [
      "{'F1': 75.09735259117319, 'EM': 57.60524225575854}\n",
      "Reader accuracy with weights: 0.8884034948371724\n"
     ]
    }
   ],
   "source": [
    "T = 0.01\n",
    "weights = softmax(retrieved_doc_similarity / T, axis=1)\n",
    "\n",
    "# here we don't need to create encodings, data loader and get logits.\n",
    "# we can use existing predictions. \n",
    "# All we need to do is to add weights to get_answer function\n",
    "\n",
    "# construct text predicted answers and evaluate quality\n",
    "pred_answer_weighted, pred_doc_id_weighted = util.get_answer(logp_start, logp_end, \n",
    "    retrieved_doc_text, retrieved_doc_id, query_id, encoding, weights)\n",
    "metrics_weighted = util.eval_dicts(answer, pred_answer_weighted, False)\n",
    "print(metrics_weighted)\n",
    "acc_weighted = np.sum(pred_doc_id_weighted==native_doc_id) / len(native_doc_id)\n",
    "print('Reader accuracy with weights:', acc_weighted)"
   ]
  },
  {
   "cell_type": "markdown",
   "id": "73d62fa6",
   "metadata": {},
   "source": [
    "### 4. Оценка результатов. Выводы"
   ]
  },
  {
   "cell_type": "markdown",
   "id": "0b0c6a85",
   "metadata": {},
   "source": [
    "Соберём метрики качества для рассмотренных случаев вместе."
   ]
  },
  {
   "cell_type": "code",
   "execution_count": 17,
   "id": "95159ddc",
   "metadata": {},
   "outputs": [
    {
     "data": {
      "image/png": "[encoded data removed]",
      "text/plain": [
       "<Figure size 864x576 with 1 Axes>"
      ]
     },
     "metadata": {
      "needs_background": "light"
     },
     "output_type": "display_data"
    }
   ],
   "source": [
    "# set width of bar\n",
    "barWidth = 0.25\n",
    "fig = plt.subplots(figsize =(12, 8))\n",
    " \n",
    "# set height of bar\n",
    "accuracy = [100, acc_weighted * 100, acc * 100]\n",
    "F1 = [metrics_init['F1'], metrics_weighted['F1'], metrics['F1']]\n",
    "EM = [metrics_init['EM'], metrics_weighted['EM'], metrics['EM']]\n",
    " \n",
    "# Set position of bar on X axis\n",
    "br1 = np.arange(len(F1))\n",
    "br2 = [x + barWidth for x in br1]\n",
    "br3 = [x + barWidth for x in br2]\n",
    " \n",
    "# Make the plot\n",
    "plt.bar(br1, accuracy, width = barWidth, edgecolor ='grey', label ='Accuracy')\n",
    "plt.bar(br2, F1, width = barWidth, edgecolor ='grey', label ='F1')\n",
    "plt.bar(br3, EM, width = barWidth, edgecolor ='grey', label ='EM')\n",
    " \n",
    "# Adding Xticks\n",
    "#plt.xlabel('Model')\n",
    "plt.ylabel('%')\n",
    "plt.xticks([r + barWidth for r in range(len(F1))],\n",
    "        ['Close-domain model', 'Open-domain model+ weights', 'Open-domain model'])\n",
    " \n",
    "plt.legend()\n",
    "plt.show()"
   ]
  },
  {
   "cell_type": "markdown",
   "id": "df3e4a63",
   "metadata": {},
   "source": [
    "Рассмотрели 3 модели:  \n",
    "    - закрытую вопросно-ответную систему;  \n",
    "    - открытую вопросно-ответную систему;  \n",
    "    - открытую вопросно-ответную систему, для которой уверенность модели `Reader` в правильности ответа корректируется весами, учитывающими уверенность модели `Retriever` в выборе релевантного документа.  \n",
    "По понятным причинам лучшие метрики качества показала закрытая модель: F1/EM = 82/63.  \n",
    "Необходимость выбора верного документа для поиска ответа добавляет дополнительную ошибку в работу, и лучшие показатели, которых удалось добиться: F1/EM = 75/58. Такой результат получен с учётом дополнительных весов, \"подталкивающих\" модель `Reader` выбирать правильный документ для поиска ответа. Без весов результаты невёселые: F1/EM = 62/48. Результаты обеих моделей получены, если для каждого вопроса выбирать по 3 наиболее релевантных документа.  \n",
    "  \n",
    "Интересными на наш взгляд результатами стали:  \n",
    "1. Высокая точность модели `Retriever`: порядка 90% уже для двух выбранных документов на вопрос. При этом для модели использовался простой tf-idf подход. Возможно, это связано с датасетом SberQuAD, построенным на статьях Википедии. Во многих вопросах и документах встречается специфическая лексика, совпадение которой в вопросе и документе приводит к появлению значимой меры близости, позволяющей выбрать правильный документ.  \n",
    "Интересным бдет проверить работу подхода на предметной области, в которой объём лексики не так велик, и отбор релевантных документов может стать не такой простой задачей.  \n",
    "2. Невысокая точность модели `Reader` по выбору документа без учёта весов. Несмотря на то, что в 94% случаев `Retriever` передаёт `Reader` правильный документ, модель в некоторых случаях извлекает ответ из неверного документа. Итоговая точность выбора правильного ответа такой модели 69%. Возможно, это связано с тем, что `Reader` обучался на закрытом типе вопросно-ответных систем, и его можно дообучить находить правильные документы из некоторого множества. Пока этот вопрос остаётся неясным. "
   ]
  },
  {
   "cell_type": "markdown",
   "id": "709be488",
   "metadata": {},
   "source": [
    "### Дополнительно"
   ]
  },
  {
   "cell_type": "markdown",
   "id": "4d49b73d",
   "metadata": {},
   "source": [
    "В качестве примера посмотрим на работу модели с весами на 5 случайных вопросах."
   ]
  },
  {
   "cell_type": "code",
   "execution_count": 24,
   "id": "8e049681",
   "metadata": {},
   "outputs": [
    {
     "name": "stdout",
     "output_type": "stream",
     "text": [
      "Пример  1\n",
      "Контекст: На долю беспозвоночных приходится около 80 % всех известных видов животных, поэтому нет ничего удивительного в том, что они скрывают в себе огромное множество вирусов различных типов. Наиболее изучены вирусы, поражающие насекомых, но даже здесь доступная по ним информация носит фрагментарный характер. Впрочем, в последнее время были описаны вирусные заболевания и у других беспозвоночных. Эти вирусы остаются малоизученными, и некоторые сообщения об открытии следует принимать с осторожностью, пока вирусная природа этих болезней не будет окончательно доказана. Кроме того, необходимо также проверить инфективность изолированных вирусов по отношению к неинфицированным хозяевам того же вида, у кого эти вирусы были обнаружены.\n",
      "\n",
      "Вопрос: Какие вирусные заболевания в последнее время были описаны?\n",
      "Предсказанный ответ: у других беспозвоночных.\n",
      "Правильный ответ: других беспозвоночных\n",
      "\n",
      "Пример  2\n",
      "Контекст: Есть попытки видеть начало публицистики в далёком прошлом литературы; Эрнест Ренан даже называл библейских пророков публицистами древности. Игорь Дедков поддерживает эту мысль, добавляя, что русская публицистическая литература восходит к „Слову о Законе и Благодати“ Илариона и обличительным произведениям Максима Грека . Несомненно, однако, что публицистика в современной её форме есть создание новой истории, всё течение которой — начиная с предвестников реформации — ознаменовано мощным развитием публицистики, которой принадлежало видное участие в возбуждении и организации самых важных общественных движений. Это значение публицистики ещё усилилось с появлением периодической прессы. Роль публицистики в современной жизни громадна. Даже в тех случаях, когда она идёт за общественным мнением, она влияет на него, давая ему определённое выражение и модифицируя его в ту или иную сторону. Большинство выдающихся политических деятелей Западной Европы начинало и начинает свою деятельность с публицистики, прибегая к её помощи и впоследствии. Особенное значение имеет публицистика в России, где она является почти единственным и во всяком случае главным проявлением частной общественно-политической инициативы, и где так важна руководящая роль литературы; авторитетное положение русской литературной критики объясняется тем, что она — в лице наиболее популярных своих представителей — занималась по преимуществу публицистикой. Отсутствием иных органов для выражения общественной мысли объясняется также господство в нашей литературе социального романа с определённой, подчас партийной окраской, а равно и то явление, что у нас отдавали свои силы публицистике такие яркие художественные таланты, как Салтыков-Щедрин и Глеб Успенский, представители особого литературного жанра — соединения художественных образов с публицистикой. Румынский публицист и писатель Горсен Крекош успешно сочетал свою публицистику с поэтическими элементами.\n",
      "\n",
      "Вопрос: Кто считал что русская публицистическая литература восходит к „Слову о Законе и Благодати“ Илариона?\n",
      "Предсказанный ответ: Игорь Дедков\n",
      "Правильный ответ: Игорь Дедков\n",
      "\n",
      "Пример  3\n",
      "Контекст: По причине широкомасштабного строительства автомагистралей после войны, железнодорожный транспорт стал менее популярен для перемещения на близкие расстояния, а авиация стала отнимать значительную часть рынка дальних перевозок. Большинство трамвайных маршрутов было заменено либо метрополитенами, либо автобусами, в то время как высокие издержки при перегрузке на другой вид транспорта сделали короткие маршруты грузовых поездов не конкурентными. Нефтяной кризис 1973 года привёл к пересмотру взглядов на транспорт, поэтому практически все трамвайные системы, дожившие до 1970-х работают и сегодня. В то же время контейнерные перевозки позволили грузовым поездам стать более конкурентоспособными при грузовых перевозках и быть частью грузовых потоков, использующих разные виды транспорта. С появлением в 1964 году высокоскоростной железной дороги Синкансэн в Японии поезда снова смогли занять доминирующие позиции в междугородных путешествиях. Введение автоматизированных систем в 1970-х позволило снизить издержки. 1990-е годы принесли большее внимание к доступности транспорта для людей с ограниченными возможностями и низкопольным поездам. Многие трамвайные линии были улучшены, став легкорельсовым транспортом, а многие города, где трамвайные линии были закрыты, снова открыли легкорельсовые маршруты.\n",
      "\n",
      "Вопрос: Какой вид перевозок позволил грузовым поездам стать более конкурентоспособными при грузовых перевозках и быть частью грузовых потоков, использующих разные виды транспорта?\n",
      "Предсказанный ответ: контейнерные\n",
      "Правильный ответ: контейнерные перевозки\n",
      "\n",
      "Пример  4\n",
      "Контекст: Следует учитывать также, что зачастую договором цессии в России называют соглашение, по которому передаются права и обязанности по договору долевого участия в строительстве жилья от одного дольщика к другому с согласия строительной компании. На самом деле, поскольку в таких соглашениях идёт речь не только об уступке прав, но и о передаче обязанностей, договорами цессии они именоваться не могут. Возможность переуступить права требования по договору участия в долевом строительстве предусмотрена ст. 11 Федерального закона от 30.12.2004 № 214-ФЗ Об участии в долевом строительстве многоквартирных домов и иных объектов недвижимости и о внесении изменений в некоторые законодательные акты Российской Федерации . Сегодня возможность переуступить права требования на строящееся жилье очень востребована среди инвесторов в недвижимость, поскольку дает возможность избежать длительной процедуры оформления в собственность.\n",
      "\n",
      "Вопрос: В какой статье предусмотрена возможность переуступить права требования?\n",
      "Предсказанный ответ: ст. 11 Федерального закона\n",
      "Правильный ответ: ст. 11 Федерального закона\n",
      "\n",
      "Пример  5\n",
      "Контекст: После окончания войны мать с детьми переехала в Бруклин. Когда Роберту было шесть лет, сестра Джоан научила его играть в шахматы. В нём сразу проявился природный дар к шахматам, который мальчик активно развивал. Увлечение шахматами полностью отвратило Роберта от общения со сверстниками (он воспринимал только тех, кто мог играть с ним в шахматы, а среди сверстников таких не было), обеспокоенная мать сначала обращалась к врачам, затем дала в местной газете объявление с просьбой откликнуться детей, увлекающихся шахматами, чтобы они могли составить Роберту компанию, но никого не нашла. Роберт вступил в местный шахматный клуб, в 10 лет он участвовал в своём первом шахматном турнире и выиграл его. Великолепная память позволила ему изучить немецкий, русский, испанский и сербскохорватский языки, иностранную шахматную литературу он читал в оригинале. Уже в 1957 году, в возрасте 13 лет, Роберт Фишер завоевал титул чемпиона США среди юниоров, а в 14 лет стал чемпионом США — самым молодым за всю историю.\n",
      "\n",
      "Вопрос: Кто научил Роберта играть в шахматы?\n",
      "Предсказанный ответ: сестра Джоан\n",
      "Правильный ответ: сестра Джоан\n",
      "\n"
     ]
    }
   ],
   "source": [
    "visual_ids = np.random.choice(list(pred_answer_weighted), size=5, replace=False)\n",
    "for i, id_ in enumerate(visual_ids):\n",
    "    pred_answer_text = pred_answer_weighted[id_]\n",
    "    question_text = question[id_]\n",
    "    context_id = question_context[id_]\n",
    "    context_text = context[context_id]\n",
    "    answer_text = answer[id_]['text']\n",
    "    print('Пример ', i+1)\n",
    "    print('Контекст:', context_text)\n",
    "    print()\n",
    "    print('Вопрос:', question_text)\n",
    "    print('Предсказанный ответ:', pred_answer_text)\n",
    "    print('Правильный ответ:', answer_text)\n",
    "    print()"
   ]
  }
 ],
 "metadata": {
  "kernelspec": {
   "display_name": "python3.7",
   "language": "python",
   "name": "python3.7"
  },
  "language_info": {
   "codemirror_mode": {
    "name": "ipython",
    "version": 3
   },
   "file_extension": ".py",
   "mimetype": "text/x-python",
   "name": "python",
   "nbconvert_exporter": "python",
   "pygments_lexer": "ipython3",
   "version": "3.7.13"
  }
 },
 "nbformat": 4,
 "nbformat_minor": 5
}
