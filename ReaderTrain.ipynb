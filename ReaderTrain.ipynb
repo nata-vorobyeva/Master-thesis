{
 "cells": [
  {
   "cell_type": "markdown",
   "id": "e00d69bd",
   "metadata": {},
   "source": [
    "## Lab 2 Question Answering system on SberQuAD dataset"
   ]
  },
  {
   "cell_type": "markdown",
   "id": "4002a80d",
   "metadata": {},
   "source": [
    "In this lab assignment we'll train Question Answering system for Russian language on SbeQuAD dataset.  \n",
    "Then we'll evaluate the quality on validation data in terms of F1 and Exact match (EM) metrics.  \n",
    "We'll use RuBERT pretrained language model by DeepPavlov. Two linear layers are added on the top of the RuBERT to solve Question Answering task."
   ]
  },
  {
   "cell_type": "markdown",
   "id": "2b59a76a",
   "metadata": {},
   "source": [
    "Import required libraries and own modules"
   ]
  },
  {
   "cell_type": "code",
   "execution_count": 2,
   "id": "83c465e5",
   "metadata": {},
   "outputs": [],
   "source": [
    "import numpy as np\n",
    "import os\n",
    "os.environ[\"CUDA_VISIBLE_DEVICES\"] = \"6, 7\"\n",
    "import time\n",
    "import torch\n",
    "import torch.nn as nn\n",
    "import torch.nn.functional as F\n",
    "import torch.optim as optim\n",
    "\n",
    "from tensorboardX import SummaryWriter\n",
    "from torch.utils.data import DataLoader\n",
    "from transformers import AutoTokenizer, AutoModel\n",
    "from transformers import logging\n",
    "logging.set_verbosity_error()\n",
    "\n",
    "%matplotlib inline\n",
    "\n",
    "import util\n",
    "from models import RUBertForQA"
   ]
  },
  {
   "cell_type": "markdown",
   "id": "e5a81f94",
   "metadata": {},
   "source": [
    "Read raw SberQuAD data, enrich and tokenize it, get train and valid datasets."
   ]
  },
  {
   "cell_type": "code",
   "execution_count": 3,
   "id": "9a6bdcf9",
   "metadata": {},
   "outputs": [
    {
     "name": "stderr",
     "output_type": "stream",
     "text": [
      "/home/naanvorobeva/miniconda3/envs/python3.7/lib/python3.7/site-packages/cryptography/hazmat/backends/openssl/x509.py:17: CryptographyDeprecationWarning: This version of cryptography contains a temporary pyOpenSSL fallback path. Upgrade pyOpenSSL now.\n",
      "  utils.DeprecatedIn35,\n"
     ]
    }
   ],
   "source": [
    "model_name = \"DeepPavlov/rubert-base-cased\"\n",
    "# create train and valid data  in appropriate formats from SberQuad files\n",
    "train_context, train_question, train_answer, train_question_context = (\n",
    "    util.read_squad('data/train-v1.1.json'))\n",
    "valid_context, valid_question, valid_answer, valid_question_context = (\n",
    "    util.read_squad('data/dev-v1.1.json'))\n",
    "\n",
    "# add index of end position of the answer\n",
    "util.add_end_idx(train_answer, train_context)\n",
    "util.add_end_idx(valid_answer, valid_context)\n",
    "\n",
    "# define lists with text values\n",
    "train_context_text = [train_context[context_id] for context_id in train_question_context.values()]\n",
    "valid_context_text = [valid_context[context_id] for context_id in valid_question_context.values()]\n",
    "\n",
    "train_question_text = list(train_question.values())\n",
    "valid_question_text = list(valid_question.values())\n",
    "\n",
    "# define lists with ids\n",
    "valid_context_id = list(valid_question_context.values())\n",
    "valid_question_id = list(valid_question_context.keys())\n",
    "\n",
    "# get tokenized encodings\n",
    "max_length = 512\n",
    "tokenizer = AutoTokenizer.from_pretrained(model_name)\n",
    "train_encoding = (tokenizer(train_context_text, train_question_text, \n",
    "                             truncation=True, padding=True, max_length = max_length, return_tensors = 'pt'))\n",
    "valid_encoding = (tokenizer(valid_context_text, valid_question_text, \n",
    "                             truncation=True, padding=True, max_length = max_length, return_tensors = 'pt'))\n",
    "\n",
    "# enrich train and valid encodings: add fields 'start_positions', 'end_positions' and 'ids':\n",
    "# 'start_positions' - token number where the answer starts, 'end_positions' - where the answer ends\n",
    "# 'ids' - id of the question in SberQuad dataset\n",
    "train_truncated_idx = util.add_token_positions(train_encoding, train_answer, max_length)\n",
    "valid_truncated_idx = util.add_token_positions(valid_encoding, valid_answer, max_length)\n",
    "\n",
    "#create Dataset objects from encodings\n",
    "train_dataset = util.SquadDataset(train_encoding)\n",
    "valid_dataset = util.SquadDataset(valid_encoding)"
   ]
  },
  {
   "cell_type": "markdown",
   "id": "705cf762",
   "metadata": {},
   "source": [
    "Need to note. Function `add_token_positions` not only updates encodings, but also returns `truncated_idxs`.  \n",
    "We set `max_length = 512` - max token number in sequence 'CLS + context + SEP + question'. 512 is set to fit tokenized encodings to bert-based model.  If any sequence in dataset is greater than 512 tokens, the context is truncated. The answer might be in truncated part, and such sequences are useless for training process. `truncated_idxs` returns list of ids of these examples. \n",
    "Take a look how many such examples we have in comparison with total training and valid datasets. "
   ]
  },
  {
   "cell_type": "code",
   "execution_count": 4,
   "id": "72adc7b2",
   "metadata": {},
   "outputs": [
    {
     "name": "stdout",
     "output_type": "stream",
     "text": [
      "Total number of training examples: 45328\n",
      "Total number of valid examples: 5036\n",
      "Number of training examples with truncated answer: 12\n",
      "Number of valid examples with truncated answer: 0\n"
     ]
    }
   ],
   "source": [
    "print('Total number of training examples:', len(train_encoding['input_ids']))\n",
    "print('Total number of valid examples:', len(valid_encoding['input_ids']))\n",
    "print('Number of training examples with truncated answer:', len(train_truncated_idx))\n",
    "print('Number of valid examples with truncated answer:', len(valid_truncated_idx))"
   ]
  },
  {
   "cell_type": "markdown",
   "id": "87f535a9",
   "metadata": {},
   "source": [
    "Well, there are only 12 examples in training set. We could remove them, but experiments shows that it doesn't increase the quality in terms of loss and F1/EM metrics.  "
   ]
  },
  {
   "cell_type": "markdown",
   "id": "093b0a94",
   "metadata": {},
   "source": [
    "Look how many examples with UNK token there are in valid dataset. It's important because we need to reconstruct text answer during validation to compute F1 and EM metrics. If there are UNK tokens, we can't directly convert tokens to string to get the answer. Text answer will contain UNK in this case and won't be equal to original text answer."
   ]
  },
  {
   "cell_type": "code",
   "execution_count": 5,
   "id": "ab84dafd",
   "metadata": {},
   "outputs": [
    {
     "name": "stdout",
     "output_type": "stream",
     "text": [
      "Number of examples with UNK token in valid dataset: 53\n"
     ]
    }
   ],
   "source": [
    "unk_token = tokenizer.unk_token\n",
    "unk_token_idx = tokenizer.convert_tokens_to_ids(unk_token)\n",
    "num_unk_seq = torch.unique(torch.where(valid_encoding['input_ids'] == unk_token_idx)[0])\n",
    "print('Number of examples with UNK token in valid dataset:', num_unk_seq.shape[0])"
   ]
  },
  {
   "cell_type": "markdown",
   "id": "2659e361",
   "metadata": {},
   "source": [
    "To make F1/EM calculation fair, we'll use predicted start and end tokens to get start and end characters in original context. We'll construct text answer as `valid_context[start_char:end_char]`. In this case we wont't get UNK string in text answer."
   ]
  },
  {
   "cell_type": "markdown",
   "id": "50dd56f9",
   "metadata": {},
   "source": [
    "Define model, loss, loaders and optimizer."
   ]
  },
  {
   "cell_type": "code",
   "execution_count": 6,
   "id": "cb96184e",
   "metadata": {},
   "outputs": [],
   "source": [
    "pad_token = tokenizer.pad_token\n",
    "pad_token_idx = tokenizer.convert_tokens_to_ids(pad_token)\n",
    "\n",
    "BATCH_SIZE = 24\n",
    "DROPOUT = 0.5\n",
    "LEARNING_RATE = 5e-5\n",
    "bert = AutoModel.from_pretrained(model_name, num_hidden_layers = 9)\n",
    "train_loader = DataLoader(train_dataset, batch_size=BATCH_SIZE, shuffle=True)\n",
    "valid_loader = DataLoader(valid_dataset, batch_size=BATCH_SIZE, shuffle=False)\n",
    "model = RUBertForQA(bert, DROPOUT)\n",
    "model = torch.nn.DataParallel(model, device_ids=[0, 1]).cuda()\n",
    "optimizer = optim.Adam(model.parameters(), lr = LEARNING_RATE)\n",
    "criterion = nn.NLLLoss(ignore_index = pad_token_idx)\n",
    "criterion = criterion.cuda()"
   ]
  },
  {
   "cell_type": "markdown",
   "id": "28225679",
   "metadata": {},
   "source": [
    "Run training process"
   ]
  },
  {
   "cell_type": "code",
   "execution_count": 7,
   "id": "613123bf",
   "metadata": {},
   "outputs": [
    {
     "data": {
      "image/png": "[encoded data removed]",
      "text/plain": [
       "<Figure size 864x576 with 2 Axes>"
      ]
     },
     "metadata": {
      "needs_background": "light"
     },
     "output_type": "display_data"
    },
    {
     "name": "stderr",
     "output_type": "stream",
     "text": [
      "1889it [16:00,  1.97it/s]\n",
      "100%|█████████████████████████████████████████████████████████████████████████████████████████████████████████████████████████████| 210/210 [00:51<00:00,  4.09it/s]"
     ]
    },
    {
     "name": "stdout",
     "output_type": "stream",
     "text": [
      "Epoch: 02 | Time: 16m 51s\n",
      "\tTrain Loss: 1.476\n",
      "\t Val. Loss: 1.863\n"
     ]
    },
    {
     "name": "stderr",
     "output_type": "stream",
     "text": [
      "\n"
     ]
    }
   ],
   "source": [
    "N_EPOCHS = 2\n",
    "train_history = []\n",
    "valid_history = []\n",
    "path_to_dict = 'model_rubert_fin_ts.pt'\n",
    "best_valid_loss = float('inf')\n",
    "for epoch in range(N_EPOCHS):\n",
    "\n",
    "        start_time = time.time()\n",
    "        train_loss = util.train(model, train_loader, optimizer, criterion,\n",
    "                           train_history, valid_history)\n",
    "        _, _, valid_loss = util.get_logits(model, valid_loader, get_loss=True, criterion)\n",
    "        end_time = time.time()\n",
    "        epoch_mins, epoch_secs = util.epoch_time(start_time, end_time)\n",
    "\n",
    "        if valid_loss < best_valid_loss:\n",
    "            best_valid_loss = valid_loss\n",
    "            torch.save(model.state_dict(), path_to_dict)\n",
    "\n",
    "        train_history.append(train_loss)\n",
    "        valid_history.append(valid_loss)\n",
    "        print(f'Epoch: {epoch+1:02} | Time: {epoch_mins}m {epoch_secs}s')\n",
    "        print(f'\\tTrain Loss: {train_loss:.3f}')\n",
    "        print(f'\\t Val. Loss: {valid_loss:.3f}')"
   ]
  },
  {
   "cell_type": "markdown",
   "id": "4189df60",
   "metadata": {},
   "source": [
    "Take a look at model parameters"
   ]
  },
  {
   "cell_type": "code",
   "execution_count": 8,
   "id": "cbff14ff",
   "metadata": {},
   "outputs": [
    {
     "name": "stdout",
     "output_type": "stream",
     "text": [
      "Number of model trainable parameters: 156591362\n"
     ]
    }
   ],
   "source": [
    "def count_parameters(model):\n",
    "    return sum(p.numel() for p in model.parameters() if p.requires_grad)\n",
    "print('Number of model trainable parameters:', count_parameters(model))"
   ]
  },
  {
   "cell_type": "markdown",
   "id": "d4c4f986",
   "metadata": {},
   "source": [
    "Load model with the best valid loss"
   ]
  },
  {
   "cell_type": "code",
   "execution_count": 7,
   "id": "7454ad14",
   "metadata": {},
   "outputs": [
    {
     "data": {
      "text/plain": [
       "<All keys matched successfully>"
      ]
     },
     "execution_count": 7,
     "metadata": {},
     "output_type": "execute_result"
    }
   ],
   "source": [
    "path_to_dict = '../model checkpoints/QA_best.pt'\n",
    "model_load = RUBertForQA(bert, DROPOUT)\n",
    "model_load = torch.nn.DataParallel(model_load, device_ids=[0, 1]).cuda()\n",
    "model_load.load_state_dict(torch.load(path_to_dict))"
   ]
  },
  {
   "cell_type": "markdown",
   "id": "c0f9dae1",
   "metadata": {},
   "source": [
    "Finally, evaluate the quality"
   ]
  },
  {
   "cell_type": "code",
   "execution_count": 8,
   "id": "33732a15",
   "metadata": {},
   "outputs": [
    {
     "name": "stderr",
     "output_type": "stream",
     "text": [
      "100%|█████████████████████████████████████████████████████████████████████████████████████████████████████████████████████████████| 210/210 [00:52<00:00,  4.02it/s]\n"
     ]
    },
    {
     "name": "stdout",
     "output_type": "stream",
     "text": [
      "NLL: 1.8037955734443816\n",
      "{'F1': 82.32876378337289, 'EM': 63.185067513899924}\n"
     ]
    }
   ],
   "source": [
    "valid_logp_start, valid_logp_end, valid_loss = util.get_logits(model_load, valid_loader, get_loss=True, criterion)\n",
    "valid_pred_answer, _ = util.get_answer(valid_logp_start, valid_logp_end, \n",
    "    valid_context_text, valid_context_id, valid_question_id, valid_encoding)\n",
    "valid_metrics = util.eval_dicts(valid_answer, valid_pred_answer, False)\n",
    "print('NLL:', valid_loss)\n",
    "print(valid_metrics)"
   ]
  },
  {
   "cell_type": "markdown",
   "id": "7e219d86",
   "metadata": {},
   "source": [
    " Well, our results look fine.  \n",
    "  \n",
    "  Also let's add 10 random examples in Tensorboaad at './save/visualize'. Format is the following:  \n",
    "  - Question\n",
    "  - Context\n",
    "  - Answer\n",
    "  - Prediction"
   ]
  },
  {
   "cell_type": "code",
   "execution_count": 9,
   "id": "1caa56ee",
   "metadata": {},
   "outputs": [],
   "source": [
    "# write random examples of context, question, true and predicted answers to TensorBoard\n",
    "tbx = SummaryWriter('./save/visualize')\n",
    "util.visualize(tbx,\n",
    "            preds=valid_pred_answer,\n",
    "            answers=valid_answer,\n",
    "            contexts=valid_context,\n",
    "            questions=valid_question,\n",
    "            question_context=valid_question_context,\n",
    "            step=0,\n",
    "            split='dev',\n",
    "            num_visuals=10)"
   ]
  },
  {
   "cell_type": "markdown",
   "id": "3304a6ac",
   "metadata": {},
   "source": [
    "### Conclusion  \n",
    "We trained Question Answering system on SberQuad dataset for Russian language.  The core of the model is pretrained RuBERT language model based on transformer approach.  \n",
    "Training time is just about 30 minutes on 2 Nvidia GeForce RTX 2080 GPUs. 2 epoches are enough to surpass baseline approach based on BiDAF model.  \n",
    "Our results are:  \n",
    "NLL: 1.80  \n",
    "F1: 82.33  \n",
    "EM: 63.19  \n",
    "Approximate results for baseline BiDAF model:  \n",
    "NLL: 02.47  \n",
    "F1: 75.62  \n",
    "EM: 55.73"
   ]
  },
  {
   "cell_type": "code",
   "execution_count": null,
   "id": "11eefa01",
   "metadata": {},
   "outputs": [],
   "source": []
  }
 ],
 "metadata": {
  "kernelspec": {
   "display_name": "python3.7",
   "language": "python",
   "name": "python3.7"
  },
  "language_info": {
   "codemirror_mode": {
    "name": "ipython",
    "version": 3
   },
   "file_extension": ".py",
   "mimetype": "text/x-python",
   "name": "python",
   "nbconvert_exporter": "python",
   "pygments_lexer": "ipython3",
   "version": "3.7.13"
  }
 },
 "nbformat": 4,
 "nbformat_minor": 5
}
